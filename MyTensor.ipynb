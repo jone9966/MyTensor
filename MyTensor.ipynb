{
 "cells": [
  {
   "cell_type": "code",
   "execution_count": null,
   "metadata": {
    "id": "ZWj1TkuZ-NfE",
    "pycharm": {
     "name": "#%%\n"
    }
   },
   "outputs": [],
   "source": [
    "import numpy as np\n",
    "import pandas as pd"
   ]
  },
  {
   "cell_type": "code",
   "execution_count": null,
   "metadata": {
    "colab": {
     "base_uri": "https://localhost:8080/",
     "height": 206
    },
    "id": "2T6DaYrJtH87",
    "outputId": "63e2bc2a-825d-44f3-f078-e380eef319c9",
    "pycharm": {
     "name": "#%%\n"
    }
   },
   "outputs": [
    {
     "data": {
      "text/html": [
       "\n",
       "  <div id=\"df-d6bc924c-66bb-4196-b60b-8d52234d2d47\">\n",
       "    <div class=\"colab-df-container\">\n",
       "      <div>\n",
       "<style scoped>\n",
       "    .dataframe tbody tr th:only-of-type {\n",
       "        vertical-align: middle;\n",
       "    }\n",
       "\n",
       "    .dataframe tbody tr th {\n",
       "        vertical-align: top;\n",
       "    }\n",
       "\n",
       "    .dataframe thead th {\n",
       "        text-align: right;\n",
       "    }\n",
       "</style>\n",
       "<table border=\"1\" class=\"dataframe\">\n",
       "  <thead>\n",
       "    <tr style=\"text-align: right;\">\n",
       "      <th></th>\n",
       "      <th>PassengerId</th>\n",
       "      <th>Survived</th>\n",
       "      <th>Pclass</th>\n",
       "      <th>Name</th>\n",
       "      <th>Sex</th>\n",
       "      <th>Age</th>\n",
       "      <th>SibSp</th>\n",
       "      <th>Parch</th>\n",
       "      <th>Ticket</th>\n",
       "      <th>Fare</th>\n",
       "      <th>Cabin</th>\n",
       "      <th>Embarked</th>\n",
       "    </tr>\n",
       "  </thead>\n",
       "  <tbody>\n",
       "    <tr>\n",
       "      <th>0</th>\n",
       "      <td>1</td>\n",
       "      <td>0</td>\n",
       "      <td>3</td>\n",
       "      <td>Braund, Mr. Owen Harris</td>\n",
       "      <td>male</td>\n",
       "      <td>22.0</td>\n",
       "      <td>1</td>\n",
       "      <td>0</td>\n",
       "      <td>A/5 21171</td>\n",
       "      <td>7.2500</td>\n",
       "      <td>NaN</td>\n",
       "      <td>S</td>\n",
       "    </tr>\n",
       "    <tr>\n",
       "      <th>1</th>\n",
       "      <td>2</td>\n",
       "      <td>1</td>\n",
       "      <td>1</td>\n",
       "      <td>Cumings, Mrs. John Bradley (Florence Briggs Th...</td>\n",
       "      <td>female</td>\n",
       "      <td>38.0</td>\n",
       "      <td>1</td>\n",
       "      <td>0</td>\n",
       "      <td>PC 17599</td>\n",
       "      <td>71.2833</td>\n",
       "      <td>C85</td>\n",
       "      <td>C</td>\n",
       "    </tr>\n",
       "    <tr>\n",
       "      <th>2</th>\n",
       "      <td>3</td>\n",
       "      <td>1</td>\n",
       "      <td>3</td>\n",
       "      <td>Heikkinen, Miss. Laina</td>\n",
       "      <td>female</td>\n",
       "      <td>26.0</td>\n",
       "      <td>0</td>\n",
       "      <td>0</td>\n",
       "      <td>STON/O2. 3101282</td>\n",
       "      <td>7.9250</td>\n",
       "      <td>NaN</td>\n",
       "      <td>S</td>\n",
       "    </tr>\n",
       "    <tr>\n",
       "      <th>3</th>\n",
       "      <td>4</td>\n",
       "      <td>1</td>\n",
       "      <td>1</td>\n",
       "      <td>Futrelle, Mrs. Jacques Heath (Lily May Peel)</td>\n",
       "      <td>female</td>\n",
       "      <td>35.0</td>\n",
       "      <td>1</td>\n",
       "      <td>0</td>\n",
       "      <td>113803</td>\n",
       "      <td>53.1000</td>\n",
       "      <td>C123</td>\n",
       "      <td>S</td>\n",
       "    </tr>\n",
       "    <tr>\n",
       "      <th>4</th>\n",
       "      <td>5</td>\n",
       "      <td>0</td>\n",
       "      <td>3</td>\n",
       "      <td>Allen, Mr. William Henry</td>\n",
       "      <td>male</td>\n",
       "      <td>35.0</td>\n",
       "      <td>0</td>\n",
       "      <td>0</td>\n",
       "      <td>373450</td>\n",
       "      <td>8.0500</td>\n",
       "      <td>NaN</td>\n",
       "      <td>S</td>\n",
       "    </tr>\n",
       "  </tbody>\n",
       "</table>\n",
       "</div>\n",
       "      <button class=\"colab-df-convert\" onclick=\"convertToInteractive('df-d6bc924c-66bb-4196-b60b-8d52234d2d47')\"\n",
       "              title=\"Convert this dataframe to an interactive table.\"\n",
       "              style=\"display:none;\">\n",
       "        \n",
       "  <svg xmlns=\"http://www.w3.org/2000/svg\" height=\"24px\"viewBox=\"0 0 24 24\"\n",
       "       width=\"24px\">\n",
       "    <path d=\"M0 0h24v24H0V0z\" fill=\"none\"/>\n",
       "    <path d=\"M18.56 5.44l.94 2.06.94-2.06 2.06-.94-2.06-.94-.94-2.06-.94 2.06-2.06.94zm-11 1L8.5 8.5l.94-2.06 2.06-.94-2.06-.94L8.5 2.5l-.94 2.06-2.06.94zm10 10l.94 2.06.94-2.06 2.06-.94-2.06-.94-.94-2.06-.94 2.06-2.06.94z\"/><path d=\"M17.41 7.96l-1.37-1.37c-.4-.4-.92-.59-1.43-.59-.52 0-1.04.2-1.43.59L10.3 9.45l-7.72 7.72c-.78.78-.78 2.05 0 2.83L4 21.41c.39.39.9.59 1.41.59.51 0 1.02-.2 1.41-.59l7.78-7.78 2.81-2.81c.8-.78.8-2.07 0-2.86zM5.41 20L4 18.59l7.72-7.72 1.47 1.35L5.41 20z\"/>\n",
       "  </svg>\n",
       "      </button>\n",
       "      \n",
       "  <style>\n",
       "    .colab-df-container {\n",
       "      display:flex;\n",
       "      flex-wrap:wrap;\n",
       "      gap: 12px;\n",
       "    }\n",
       "\n",
       "    .colab-df-convert {\n",
       "      background-color: #E8F0FE;\n",
       "      border: none;\n",
       "      border-radius: 50%;\n",
       "      cursor: pointer;\n",
       "      display: none;\n",
       "      fill: #1967D2;\n",
       "      height: 32px;\n",
       "      padding: 0 0 0 0;\n",
       "      width: 32px;\n",
       "    }\n",
       "\n",
       "    .colab-df-convert:hover {\n",
       "      background-color: #E2EBFA;\n",
       "      box-shadow: 0px 1px 2px rgba(60, 64, 67, 0.3), 0px 1px 3px 1px rgba(60, 64, 67, 0.15);\n",
       "      fill: #174EA6;\n",
       "    }\n",
       "\n",
       "    [theme=dark] .colab-df-convert {\n",
       "      background-color: #3B4455;\n",
       "      fill: #D2E3FC;\n",
       "    }\n",
       "\n",
       "    [theme=dark] .colab-df-convert:hover {\n",
       "      background-color: #434B5C;\n",
       "      box-shadow: 0px 1px 3px 1px rgba(0, 0, 0, 0.15);\n",
       "      filter: drop-shadow(0px 1px 2px rgba(0, 0, 0, 0.3));\n",
       "      fill: #FFFFFF;\n",
       "    }\n",
       "  </style>\n",
       "\n",
       "      <script>\n",
       "        const buttonEl =\n",
       "          document.querySelector('#df-d6bc924c-66bb-4196-b60b-8d52234d2d47 button.colab-df-convert');\n",
       "        buttonEl.style.display =\n",
       "          google.colab.kernel.accessAllowed ? 'block' : 'none';\n",
       "\n",
       "        async function convertToInteractive(key) {\n",
       "          const element = document.querySelector('#df-d6bc924c-66bb-4196-b60b-8d52234d2d47');\n",
       "          const dataTable =\n",
       "            await google.colab.kernel.invokeFunction('convertToInteractive',\n",
       "                                                     [key], {});\n",
       "          if (!dataTable) return;\n",
       "\n",
       "          const docLinkHtml = 'Like what you see? Visit the ' +\n",
       "            '<a target=\"_blank\" href=https://colab.research.google.com/notebooks/data_table.ipynb>data table notebook</a>'\n",
       "            + ' to learn more about interactive tables.';\n",
       "          element.innerHTML = '';\n",
       "          dataTable['output_type'] = 'display_data';\n",
       "          await google.colab.output.renderOutput(dataTable, element);\n",
       "          const docLink = document.createElement('div');\n",
       "          docLink.innerHTML = docLinkHtml;\n",
       "          element.appendChild(docLink);\n",
       "        }\n",
       "      </script>\n",
       "    </div>\n",
       "  </div>\n",
       "  "
      ],
      "text/plain": [
       "   PassengerId  Survived  Pclass  \\\n",
       "0            1         0       3   \n",
       "1            2         1       1   \n",
       "2            3         1       3   \n",
       "3            4         1       1   \n",
       "4            5         0       3   \n",
       "\n",
       "                                                Name     Sex   Age  SibSp  \\\n",
       "0                            Braund, Mr. Owen Harris    male  22.0      1   \n",
       "1  Cumings, Mrs. John Bradley (Florence Briggs Th...  female  38.0      1   \n",
       "2                             Heikkinen, Miss. Laina  female  26.0      0   \n",
       "3       Futrelle, Mrs. Jacques Heath (Lily May Peel)  female  35.0      1   \n",
       "4                           Allen, Mr. William Henry    male  35.0      0   \n",
       "\n",
       "   Parch            Ticket     Fare Cabin Embarked  \n",
       "0      0         A/5 21171   7.2500   NaN        S  \n",
       "1      0          PC 17599  71.2833   C85        C  \n",
       "2      0  STON/O2. 3101282   7.9250   NaN        S  \n",
       "3      0            113803  53.1000  C123        S  \n",
       "4      0            373450   8.0500   NaN        S  "
      ]
     },
     "execution_count": 20,
     "metadata": {},
     "output_type": "execute_result"
    }
   ],
   "source": [
    "df = pd.read_csv(\"/content/drive/MyDrive/공부/머신러닝/빅데이터 분석기사/Datasets/titanic/train.csv\")\n",
    "df.head()"
   ]
  },
  {
   "cell_type": "code",
   "execution_count": null,
   "metadata": {
    "colab": {
     "base_uri": "https://localhost:8080/",
     "height": 206
    },
    "id": "n79kOPO4tnka",
    "outputId": "febfb207-b541-472b-9b35-67b889faa636",
    "pycharm": {
     "name": "#%%\n"
    }
   },
   "outputs": [
    {
     "data": {
      "text/html": [
       "\n",
       "  <div id=\"df-ee440704-bcca-4c6f-b001-4ff7edd38680\">\n",
       "    <div class=\"colab-df-container\">\n",
       "      <div>\n",
       "<style scoped>\n",
       "    .dataframe tbody tr th:only-of-type {\n",
       "        vertical-align: middle;\n",
       "    }\n",
       "\n",
       "    .dataframe tbody tr th {\n",
       "        vertical-align: top;\n",
       "    }\n",
       "\n",
       "    .dataframe thead th {\n",
       "        text-align: right;\n",
       "    }\n",
       "</style>\n",
       "<table border=\"1\" class=\"dataframe\">\n",
       "  <thead>\n",
       "    <tr style=\"text-align: right;\">\n",
       "      <th></th>\n",
       "      <th>Survived</th>\n",
       "      <th>Pclass</th>\n",
       "      <th>Sex</th>\n",
       "      <th>Age</th>\n",
       "      <th>SibSp</th>\n",
       "      <th>Parch</th>\n",
       "      <th>Fare</th>\n",
       "      <th>Embarked</th>\n",
       "    </tr>\n",
       "  </thead>\n",
       "  <tbody>\n",
       "    <tr>\n",
       "      <th>0</th>\n",
       "      <td>0</td>\n",
       "      <td>3</td>\n",
       "      <td>1</td>\n",
       "      <td>0.271174</td>\n",
       "      <td>1</td>\n",
       "      <td>0</td>\n",
       "      <td>0.014151</td>\n",
       "      <td>2</td>\n",
       "    </tr>\n",
       "    <tr>\n",
       "      <th>1</th>\n",
       "      <td>1</td>\n",
       "      <td>1</td>\n",
       "      <td>0</td>\n",
       "      <td>0.472229</td>\n",
       "      <td>1</td>\n",
       "      <td>0</td>\n",
       "      <td>0.139136</td>\n",
       "      <td>0</td>\n",
       "    </tr>\n",
       "    <tr>\n",
       "      <th>2</th>\n",
       "      <td>1</td>\n",
       "      <td>3</td>\n",
       "      <td>0</td>\n",
       "      <td>0.321438</td>\n",
       "      <td>0</td>\n",
       "      <td>0</td>\n",
       "      <td>0.015469</td>\n",
       "      <td>2</td>\n",
       "    </tr>\n",
       "    <tr>\n",
       "      <th>3</th>\n",
       "      <td>1</td>\n",
       "      <td>1</td>\n",
       "      <td>0</td>\n",
       "      <td>0.434531</td>\n",
       "      <td>1</td>\n",
       "      <td>0</td>\n",
       "      <td>0.103644</td>\n",
       "      <td>2</td>\n",
       "    </tr>\n",
       "    <tr>\n",
       "      <th>4</th>\n",
       "      <td>0</td>\n",
       "      <td>3</td>\n",
       "      <td>1</td>\n",
       "      <td>0.434531</td>\n",
       "      <td>0</td>\n",
       "      <td>0</td>\n",
       "      <td>0.015713</td>\n",
       "      <td>2</td>\n",
       "    </tr>\n",
       "  </tbody>\n",
       "</table>\n",
       "</div>\n",
       "      <button class=\"colab-df-convert\" onclick=\"convertToInteractive('df-ee440704-bcca-4c6f-b001-4ff7edd38680')\"\n",
       "              title=\"Convert this dataframe to an interactive table.\"\n",
       "              style=\"display:none;\">\n",
       "        \n",
       "  <svg xmlns=\"http://www.w3.org/2000/svg\" height=\"24px\"viewBox=\"0 0 24 24\"\n",
       "       width=\"24px\">\n",
       "    <path d=\"M0 0h24v24H0V0z\" fill=\"none\"/>\n",
       "    <path d=\"M18.56 5.44l.94 2.06.94-2.06 2.06-.94-2.06-.94-.94-2.06-.94 2.06-2.06.94zm-11 1L8.5 8.5l.94-2.06 2.06-.94-2.06-.94L8.5 2.5l-.94 2.06-2.06.94zm10 10l.94 2.06.94-2.06 2.06-.94-2.06-.94-.94-2.06-.94 2.06-2.06.94z\"/><path d=\"M17.41 7.96l-1.37-1.37c-.4-.4-.92-.59-1.43-.59-.52 0-1.04.2-1.43.59L10.3 9.45l-7.72 7.72c-.78.78-.78 2.05 0 2.83L4 21.41c.39.39.9.59 1.41.59.51 0 1.02-.2 1.41-.59l7.78-7.78 2.81-2.81c.8-.78.8-2.07 0-2.86zM5.41 20L4 18.59l7.72-7.72 1.47 1.35L5.41 20z\"/>\n",
       "  </svg>\n",
       "      </button>\n",
       "      \n",
       "  <style>\n",
       "    .colab-df-container {\n",
       "      display:flex;\n",
       "      flex-wrap:wrap;\n",
       "      gap: 12px;\n",
       "    }\n",
       "\n",
       "    .colab-df-convert {\n",
       "      background-color: #E8F0FE;\n",
       "      border: none;\n",
       "      border-radius: 50%;\n",
       "      cursor: pointer;\n",
       "      display: none;\n",
       "      fill: #1967D2;\n",
       "      height: 32px;\n",
       "      padding: 0 0 0 0;\n",
       "      width: 32px;\n",
       "    }\n",
       "\n",
       "    .colab-df-convert:hover {\n",
       "      background-color: #E2EBFA;\n",
       "      box-shadow: 0px 1px 2px rgba(60, 64, 67, 0.3), 0px 1px 3px 1px rgba(60, 64, 67, 0.15);\n",
       "      fill: #174EA6;\n",
       "    }\n",
       "\n",
       "    [theme=dark] .colab-df-convert {\n",
       "      background-color: #3B4455;\n",
       "      fill: #D2E3FC;\n",
       "    }\n",
       "\n",
       "    [theme=dark] .colab-df-convert:hover {\n",
       "      background-color: #434B5C;\n",
       "      box-shadow: 0px 1px 3px 1px rgba(0, 0, 0, 0.15);\n",
       "      filter: drop-shadow(0px 1px 2px rgba(0, 0, 0, 0.3));\n",
       "      fill: #FFFFFF;\n",
       "    }\n",
       "  </style>\n",
       "\n",
       "      <script>\n",
       "        const buttonEl =\n",
       "          document.querySelector('#df-ee440704-bcca-4c6f-b001-4ff7edd38680 button.colab-df-convert');\n",
       "        buttonEl.style.display =\n",
       "          google.colab.kernel.accessAllowed ? 'block' : 'none';\n",
       "\n",
       "        async function convertToInteractive(key) {\n",
       "          const element = document.querySelector('#df-ee440704-bcca-4c6f-b001-4ff7edd38680');\n",
       "          const dataTable =\n",
       "            await google.colab.kernel.invokeFunction('convertToInteractive',\n",
       "                                                     [key], {});\n",
       "          if (!dataTable) return;\n",
       "\n",
       "          const docLinkHtml = 'Like what you see? Visit the ' +\n",
       "            '<a target=\"_blank\" href=https://colab.research.google.com/notebooks/data_table.ipynb>data table notebook</a>'\n",
       "            + ' to learn more about interactive tables.';\n",
       "          element.innerHTML = '';\n",
       "          dataTable['output_type'] = 'display_data';\n",
       "          await google.colab.output.renderOutput(dataTable, element);\n",
       "          const docLink = document.createElement('div');\n",
       "          docLink.innerHTML = docLinkHtml;\n",
       "          element.appendChild(docLink);\n",
       "        }\n",
       "      </script>\n",
       "    </div>\n",
       "  </div>\n",
       "  "
      ],
      "text/plain": [
       "   Survived  Pclass  Sex       Age  SibSp  Parch      Fare  Embarked\n",
       "0         0       3    1  0.271174      1      0  0.014151         2\n",
       "1         1       1    0  0.472229      1      0  0.139136         0\n",
       "2         1       3    0  0.321438      0      0  0.015469         2\n",
       "3         1       1    0  0.434531      1      0  0.103644         2\n",
       "4         0       3    1  0.434531      0      0  0.015713         2"
      ]
     },
     "execution_count": 21,
     "metadata": {},
     "output_type": "execute_result"
    }
   ],
   "source": [
    "from sklearn.preprocessing import LabelEncoder, MinMaxScaler\n",
    "\n",
    "df = df.drop([\"PassengerId\", \"Name\", \"Ticket\", \"Cabin\"], axis=1)\n",
    "df[\"Sex\"] = LabelEncoder().fit_transform(df[\"Sex\"])\n",
    "df[\"Embarked\"] = LabelEncoder().fit_transform(df[\"Embarked\"])\n",
    "df[\"Embarked\"] = df[\"Embarked\"].fillna(method=\"ffill\")\n",
    "df[\"Age\"] = MinMaxScaler().fit_transform(df[[\"Age\"]])\n",
    "df[\"Age\"] = df[\"Age\"].fillna(df[\"Age\"].mean())\n",
    "df[\"Fare\"] = MinMaxScaler().fit_transform(df[[\"Fare\"]])\n",
    "df.head()"
   ]
  },
  {
   "cell_type": "code",
   "execution_count": null,
   "metadata": {
    "id": "2ZK7QJpiuV1q",
    "pycharm": {
     "name": "#%%\n"
    }
   },
   "outputs": [],
   "source": [
    "from sklearn.model_selection import train_test_split\n",
    "\n",
    "label = df[\"Survived\"]\n",
    "data = df.drop(\"Survived\", axis=1)\n",
    "\n",
    "X_train, X_test, Y_train, Y_test = train_test_split(data, label, test_size=0.2, random_state=0)"
   ]
  },
  {
   "cell_type": "markdown",
   "metadata": {
    "id": "NWJzKYr3ObV9",
    "pycharm": {
     "name": "#%% md\n"
    }
   },
   "source": [
    "### 1-2"
   ]
  },
  {
   "cell_type": "code",
   "execution_count": null,
   "metadata": {
    "id": "20eUpAOsPjHu",
    "pycharm": {
     "name": "#%%\n"
    }
   },
   "outputs": [],
   "source": [
    "import numpy as np"
   ]
  },
  {
   "cell_type": "code",
   "execution_count": null,
   "metadata": {
    "id": "Yqjfe3PtQbW7",
    "pycharm": {
     "name": "#%%\n"
    }
   },
   "outputs": [],
   "source": [
    "X = np.arange(0, 10, 2)\n",
    "Y = 1 / (1 + np.exp(-(3 * X + 4)))\n",
    "w = np.random.randn(1)\n",
    "b = np.zeros(1)\n",
    "lr = 1"
   ]
  },
  {
   "cell_type": "code",
   "execution_count": null,
   "metadata": {
    "colab": {
     "base_uri": "https://localhost:8080/"
    },
    "id": "w50_PUetPap6",
    "outputId": "8efa3eeb-a09d-4639-db34-227ba4dffa64",
    "pycharm": {
     "name": "#%%\n"
    }
   },
   "outputs": [
    {
     "name": "stdout",
     "output_type": "stream",
     "text": [
      "[3.148139] [3.99933448]\n"
     ]
    }
   ],
   "source": [
    "for i in range(10000):\n",
    "  dw = 0\n",
    "  db = 0\n",
    "  loss = 0\n",
    "  for x in X:\n",
    "    y = 1 / (1 + np.exp(-(3 * x + 4)))\n",
    "    z = w * x + b\n",
    "    a = 1 / (1 + np.exp(-z))\n",
    "    L = - (y * np.log(a) + (1 - y) * np.log(1 - a))\n",
    "    \n",
    "    da = -y / a + (1 - y) / (1 - a)\n",
    "    dz = a * (1 - a) * da\n",
    "    dw += x * dz\n",
    "    db += dz\n",
    "    loss += L\n",
    "  w -= lr * (dw / len(X))\n",
    "  b -= lr * (db / len(X))\n",
    "print(w, b)"
   ]
  },
  {
   "cell_type": "code",
   "execution_count": null,
   "metadata": {
    "colab": {
     "base_uri": "https://localhost:8080/"
    },
    "id": "6UX7tZBnh9b7",
    "outputId": "4636e547-b48d-4ae6-86f8-80270c794c9a",
    "pycharm": {
     "name": "#%%\n"
    }
   },
   "outputs": [
    {
     "name": "stdout",
     "output_type": "stream",
     "text": [
      "[3.10724626] [3.99949858]\n"
     ]
    }
   ],
   "source": [
    "for i in range(10000):\n",
    "  z = w * X + b\n",
    "  a = 1 / (1 + np.exp(-z))\n",
    "  L = np.sum(- (Y * np.log(a) + (1 - Y) * np.log(1 - a))) / X.shape[0]\n",
    "\n",
    "  da = -Y / a + (1 - Y) / (1 - a)\n",
    "  dz = a * (1 - a) * da\n",
    "  dw = np.sum(X * dz) / X.shape[0]\n",
    "  db = np.sum(dz) / X.shape[0]\n",
    "\n",
    "  w -= lr * dw\n",
    "  b -= lr * db\n",
    "print(w, b)"
   ]
  },
  {
   "cell_type": "code",
   "execution_count": null,
   "metadata": {
    "id": "syueeoFnltPo",
    "pycharm": {
     "name": "#%%\n"
    }
   },
   "outputs": [],
   "source": [
    "X, Y = np.array(X_train), np.array(Y_train).reshape(1, -1)\n",
    "W = np.random.randn(1, X.shape[1])\n",
    "b = np.zeros((1, 1))\n",
    "lr = 1"
   ]
  },
  {
   "cell_type": "code",
   "execution_count": null,
   "metadata": {
    "colab": {
     "base_uri": "https://localhost:8080/"
    },
    "id": "DHux93MasQII",
    "outputId": "7a793c15-822c-4fdb-e4ff-26d423246ef3",
    "pycharm": {
     "name": "#%%\n"
    }
   },
   "outputs": [
    {
     "name": "stdout",
     "output_type": "stream",
     "text": [
      "[[-1.03721527 -2.72307139 -3.44251279 -0.38367333 -0.06934706  0.7855652\n",
      "  -0.16867532]] [[5.24488291]] 0.4462955073840645\n"
     ]
    }
   ],
   "source": [
    "for i in range(10000):\n",
    "  Z = np.dot(W, X.T) + b\n",
    "  A = 1 / (1 + np.exp(-Z))\n",
    "  L = np.sum(- (Y * np.log(A) + (1 - Y) * np.log(1 - A))) / X.shape[0]\n",
    "\n",
    "  dA = -Y / A + (1 - Y) / (1 - A)\n",
    "  dZ = A * (1 - A) * dA\n",
    "  dW = np.sum(X.T * dZ, axis=1, keepdims=True) / X.shape[0]\n",
    "  db = np.sum(dZ, axis=1, keepdims=True) / X.shape[0]\n",
    "\n",
    "  W = W - lr * dW.T\n",
    "  b = b - lr * db\n",
    "print(W, b, L)"
   ]
  },
  {
   "cell_type": "code",
   "execution_count": null,
   "metadata": {
    "colab": {
     "base_uri": "https://localhost:8080/"
    },
    "id": "Dwc96PtBsjhN",
    "outputId": "742ae247-9c42-42ac-b100-d3c0ed82b112",
    "pycharm": {
     "name": "#%%\n"
    }
   },
   "outputs": [
    {
     "data": {
      "text/plain": [
       "0.7988826815642458"
      ]
     },
     "execution_count": 29,
     "metadata": {},
     "output_type": "execute_result"
    }
   ],
   "source": [
    "X_test, Y_test = np.array(X_test), np.array(Y_test).reshape(1, -1)\n",
    "Z = np.dot(W, X_test.T) + b\n",
    "A = 1 / (1 + np.exp(-Z))\n",
    "A = A > 0.5\n",
    "np.sum(A == Y_test) / Y_test.shape[1]"
   ]
  },
  {
   "cell_type": "markdown",
   "metadata": {
    "id": "TBRiq5Uyu-jS",
    "pycharm": {
     "name": "#%% md\n"
    }
   },
   "source": [
    "Logistic Regression 구현"
   ]
  },
  {
   "cell_type": "code",
   "execution_count": null,
   "metadata": {
    "id": "UonEz2Pt1Jxp",
    "pycharm": {
     "name": "#%%\n"
    }
   },
   "outputs": [],
   "source": [
    "class LogisticRegression():\n",
    "  def __init__(self, name='logistic_regression'):\n",
    "    self.name = name\n",
    "    self.W = None\n",
    "    self.b = None\n",
    "\n",
    "  def initialize_parameters(self, X):\n",
    "    W = np.random.randn(1, X.shape[1])\n",
    "    b = np.zeros((1, 1))\n",
    "    return W, b\n",
    "\n",
    "  def parameters(self):\n",
    "    return self.W, self.b\n",
    "\n",
    "  def sigmoid(self, x):\n",
    "    return 1 / (1 + np.exp(-x))\n",
    "\n",
    "  def binary_crossentropy(self, y, yhat):\n",
    "    return np.sum(- (y * np.log(yhat) + (1 - y) * np.log(1 - yhat))) / y.shape[1]\n",
    "\n",
    "  def forward_propagation(self, X, W, b):\n",
    "    Z = np.dot(W, X.T) + b\n",
    "    A = 1 / (1 + np.exp(-Z))\n",
    "    return A\n",
    "\n",
    "  def backward_propagation(self, X, Y, A, W, b):\n",
    "    dA = -Y / A + (1 - Y) / (1 - A)\n",
    "    dZ = A * (1 - A) * dA\n",
    "    dW = np.sum(X.T * dZ, axis=1, keepdims=True) / X.shape[0]\n",
    "    db = np.sum(dZ, axis=1, keepdims=True) / X.shape[0]\n",
    "    return dW, db\n",
    "\n",
    "  def fit(self, X, Y, epochs=10, learning_rate=0.1):\n",
    "    if self.W == None:\n",
    "      self.W, self.b = self.initialize_parameters(X)\n",
    "      \n",
    "    for _ in range(epochs):\n",
    "      A = self.forward_propagation(X, self.W, self.b)\n",
    "      loss = self.binary_crossentropy(Y, A)\n",
    "      acc = np.sum((A > 0.5) == Y) / Y.shape[1]\n",
    "      print(\"Train_loss : \", round(loss, 4), \"Train_acc : \", round(acc, 4))\n",
    "\n",
    "      dW, db = self.backward_propagation(X, Y, A, self.W, self.b)\n",
    "      self.W = self.W - learning_rate * dW.T\n",
    "      self.b = self.b - learning_rate * db\n",
    "\n",
    "  def predict(self, X):\n",
    "    return self.forward_propagation(X, self.W, self.b)"
   ]
  },
  {
   "cell_type": "code",
   "execution_count": null,
   "metadata": {
    "colab": {
     "base_uri": "https://localhost:8080/"
    },
    "id": "O8g5vFV97M_b",
    "outputId": "f63862e1-a1c5-4195-be63-7d18b2e73030",
    "pycharm": {
     "name": "#%%\n"
    }
   },
   "outputs": [
    {
     "name": "stdout",
     "output_type": "stream",
     "text": [
      "Train_loss :  1.3942 Train_acc :  0.3876\n",
      "Train_loss :  1.0098 Train_acc :  0.6166\n",
      "Train_loss :  0.8101 Train_acc :  0.4551\n",
      "Train_loss :  0.7641 Train_acc :  0.6419\n",
      "Train_loss :  0.7107 Train_acc :  0.5632\n",
      "Train_loss :  0.679 Train_acc :  0.6545\n",
      "Train_loss :  0.6442 Train_acc :  0.7275\n",
      "Train_loss :  0.6257 Train_acc :  0.6742\n",
      "Train_loss :  0.6037 Train_acc :  0.7654\n",
      "Train_loss :  0.5966 Train_acc :  0.6868\n",
      "Train_loss :  0.5823 Train_acc :  0.7823\n",
      "Train_loss :  0.5818 Train_acc :  0.7008\n",
      "Train_loss :  0.5701 Train_acc :  0.7781\n",
      "Train_loss :  0.5718 Train_acc :  0.7121\n",
      "Train_loss :  0.5609 Train_acc :  0.7865\n",
      "Train_loss :  0.5622 Train_acc :  0.7275\n",
      "Train_loss :  0.5522 Train_acc :  0.7865\n",
      "Train_loss :  0.5524 Train_acc :  0.7458\n",
      "Train_loss :  0.5439 Train_acc :  0.7865\n",
      "Train_loss :  0.5431 Train_acc :  0.7514\n"
     ]
    }
   ],
   "source": [
    "X, Y = np.array(X_train), np.array(Y_train).reshape(1, -1)\n",
    "model = LogisticRegression()\n",
    "model.fit(X, Y, epochs=20, learning_rate=1)"
   ]
  },
  {
   "cell_type": "markdown",
   "metadata": {
    "id": "4wtw045y3pm2",
    "pycharm": {
     "name": "#%% md\n"
    }
   },
   "source": [
    "1-3"
   ]
  },
  {
   "cell_type": "code",
   "execution_count": null,
   "metadata": {
    "id": "cbMquZzUMaqN",
    "pycharm": {
     "name": "#%%\n"
    }
   },
   "outputs": [],
   "source": [
    "import numpy as np"
   ]
  },
  {
   "cell_type": "code",
   "execution_count": null,
   "metadata": {
    "colab": {
     "base_uri": "https://localhost:8080/"
    },
    "id": "lOftWRrB3oEx",
    "outputId": "e3eff8a6-5a02-4242-c1eb-0df201a4fa1b",
    "pycharm": {
     "name": "#%%\n"
    }
   },
   "outputs": [
    {
     "name": "stdout",
     "output_type": "stream",
     "text": [
      "(712, 7) (1, 712)\n",
      "(4, 7) (4, 1)\n",
      "(1, 4) (1, 1)\n"
     ]
    }
   ],
   "source": [
    "X, Y = np.array(X_train), np.array(Y_train).reshape(1, -1)\n",
    "layers = [X.shape[1], 4, Y.shape[0]]\n",
    "W1 = np.random.randn(layers[1], layers[0])\n",
    "b1 = np.zeros((layers[1], 1))\n",
    "W2 = np.random.randn(layers[2], layers[1])\n",
    "b2 = np.zeros((layers[2], 1))\n",
    "learning_rate = 0.1\n",
    "print(X.shape, Y.shape)\n",
    "print(W1.shape, b1.shape)\n",
    "print(W2.shape, b2.shape)"
   ]
  },
  {
   "cell_type": "code",
   "execution_count": null,
   "metadata": {
    "id": "1_Fgnz1CMU-1",
    "pycharm": {
     "name": "#%%\n"
    }
   },
   "outputs": [],
   "source": [
    "def tanh(x):\n",
    "  return (np.exp(x) - np.exp(-x)) / (np.exp(x) + np.exp(-x))"
   ]
  },
  {
   "cell_type": "code",
   "execution_count": null,
   "metadata": {
    "id": "vJLU_vrpNvvv",
    "pycharm": {
     "name": "#%%\n"
    }
   },
   "outputs": [],
   "source": [
    "def sigmoid(x):\n",
    "  return 1 / (1 + np.exp(-x))"
   ]
  },
  {
   "cell_type": "code",
   "execution_count": null,
   "metadata": {
    "colab": {
     "base_uri": "https://localhost:8080/"
    },
    "id": "5lU7sN5wNBSq",
    "outputId": "d8683345-d280-41a8-a77e-5a1115756c33",
    "pycharm": {
     "name": "#%%\n"
    }
   },
   "outputs": [
    {
     "name": "stdout",
     "output_type": "stream",
     "text": [
      "1.474436001875799\n"
     ]
    }
   ],
   "source": [
    "for i in range(10000):\n",
    "  Z1 = np.dot(W1, X.T) + b1\n",
    "  A1 = tanh(Z1)\n",
    "  Z2 = np.dot(W2, A1) + b2\n",
    "  A2 = sigmoid(Z2)\n",
    "  loss = np.sum(- (Y * np.log(A2) + (1 - Y) * np.log(1 - A2))) / X.shape[0]\n",
    "\n",
    "  dA2 = - Y / A2 + (1 - Y) / (1 - A2)\n",
    "  dZ2 = A2 * (1 - A2) * dA2\n",
    "  dW2 = np.dot(dZ2, A1.T) / X.shape[0]\n",
    "  db2 = np.sum(dZ2, axis=1, keepdims=True) / X.shape[0]\n",
    "\n",
    "  dA1 = np.dot(W2.T, dZ2)\n",
    "  dZ1 = (1 - A1 * A1) * dA1\n",
    "  dW1 = np.dot(dZ1, X) / X.shape[0]\n",
    "  db1 = np.sum(dZ1, axis=1, keepdims=True) / X.shape[0]\n",
    "\n",
    "  W2 = W2 - learning_rate * dW2\n",
    "  b2 = b2 - learning_rate * db2\n",
    "  W1 = W1 - learning_rate * dW1\n",
    "  b1 = b1 - learning_rate * db1\n",
    "print(loss)"
   ]
  },
  {
   "cell_type": "markdown",
   "metadata": {
    "id": "DRohIz2w3QCx",
    "pycharm": {
     "name": "#%% md\n"
    }
   },
   "source": [
    "1-4"
   ]
  },
  {
   "cell_type": "code",
   "execution_count": null,
   "metadata": {
    "id": "LZLMpat84g3X",
    "pycharm": {
     "name": "#%%\n"
    }
   },
   "outputs": [],
   "source": [
    "X, Y = np.array(X_train), np.array(Y_train).reshape(1, -1)\n",
    "layers = [X.shape[1], 4, Y.shape[0]]\n",
    "W1 = np.random.randn(layers[1], layers[0])\n",
    "b1 = np.zeros((layers[1], 1))\n",
    "W2 = np.random.randn(layers[2], layers[1])\n",
    "b2 = np.zeros((layers[2], 1))\n",
    "learning_rate = 0.1\n",
    "print(X.shape, Y.shape)\n",
    "print(W1.shape, b1.shape)\n",
    "print(W2.shape, b2.shape)"
   ]
  },
  {
   "cell_type": "code",
   "execution_count": null,
   "metadata": {
    "id": "Ci3AKUI6h1rY",
    "pycharm": {
     "name": "#%%\n"
    }
   },
   "outputs": [],
   "source": [
    "class NeuralNetwork():\n",
    "  def __init__(self, layers, name='neural_network'):\n",
    "    self.name = name\n",
    "    self.layers = layers\n",
    "    self.parameters = self.init_parameters(layers)\n",
    "    self.grads = {}\n",
    "\n",
    "  \n",
    "  def binary_crossentropy(self, y, yhat):\n",
    "    return np.sum(- (y * np.log(yhat) + (1 - y) * np.log(1 - yhat)))\n",
    "\n",
    "  def init_parameters(self, layers):\n",
    "    parameters = {}\n",
    "    for l in range(1, len(layers)):\n",
    "      parameters['W' + str(l)] = np.random.randn(layers[l-1], layers[l])\n",
    "      parameters['b' + str(l)] = np.zeros((layers[l-1], 1))\n",
    "    return parameters\n",
    "  def forward_propagation(self, X, parameters):\n",
    "    for i in range(1, len(self.layers)):\n",
    "\n",
    "  \n",
    "  def fit(self, X, Y, epochs=10, learning_rate=0.1):\n",
    "    m = X.shape[0]\n",
    "    for _ in range(epochs):\n",
    "      self.grads = self.forward_propagation(X, self.parameters)\n",
    "      loss = "
   ]
  },
  {
   "cell_type": "code",
   "execution_count": null,
   "metadata": {
    "id": "q-9nYIn2oHPf",
    "pycharm": {
     "name": "#%%\n"
    }
   },
   "outputs": [],
   "source": [
    "class Dense():\n",
    "  def __init__(self, units=4, activation='relu'):\n",
    "    self.W\n",
    "    self.b\n",
    "    self.activation\n",
    "\n",
    "  def forward_propagation(self, X):\n",
    "    Z = np.dot(self.W, X.T) + self.b\n",
    "    A = self.activation(Z, 'forward')\n",
    "    return A\n",
    "\n",
    "  def backward_propagation(self, X, Y, A):\n",
    "    dA = -Y / A + (1 - Y) / (1 - A)\n",
    "    dZ = self.activation(A, 'backward') * dA\n",
    "    dW = np.sum(X.T * dZ, axis=1, keepdims=True) / X.shape[0]\n",
    "    db = np.sum(dZ, axis=1, keepdims=True) / X.shape[0]\n",
    "    return dW, db"
   ]
  },
  {
   "cell_type": "code",
   "execution_count": null,
   "metadata": {
    "id": "xWmhAaGqo44B",
    "pycharm": {
     "name": "#%%\n"
    }
   },
   "outputs": [],
   "source": [
    "class activation_fuction():\n",
    "  def sigmoid(self, x):\n",
    "    return 1 / (1 + np.exp(-x))\n",
    "  def tanh(self, x):\n",
    "    return (np.exp(x) - np.exp(-x) / np.exp(x) + np.exp(-x))\n",
    "  def relu(self, x):\n",
    "    return x if x > 0 else 0"
   ]
  }
 ],
 "metadata": {
  "colab": {
   "name": "MyTensor.ipynb",
   "provenance": []
  },
  "kernelspec": {
   "display_name": "Python 3 (ipykernel)",
   "language": "python",
   "name": "python3"
  },
  "language_info": {
   "codemirror_mode": {
    "name": "ipython",
    "version": 3
   },
   "file_extension": ".py",
   "mimetype": "text/x-python",
   "name": "python",
   "nbconvert_exporter": "python",
   "pygments_lexer": "ipython3",
   "version": "3.8.13"
  }
 },
 "nbformat": 4,
 "nbformat_minor": 1
}